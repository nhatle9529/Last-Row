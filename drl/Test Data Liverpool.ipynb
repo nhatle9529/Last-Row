{
 "cells": [
  {
   "cell_type": "markdown",
   "metadata": {},
   "source": [
    "# Computing the value function : \n",
    "\n",
    "This notebooks take the Liverpool tracking data in the google format from the google-tracking notebook, and uses our agent to compute the value function. \n",
    "\n",
    "You can plug your google data and the checkopint you want to use. "
   ]
  },
  {
   "cell_type": "code",
   "execution_count": 2,
   "metadata": {},
   "outputs": [],
   "source": [
    "import numpy as np \n",
    "import six"
   ]
  },
  {
   "cell_type": "code",
   "execution_count": 2,
   "metadata": {},
   "outputs": [],
   "source": [
    "import multiprocessing\n",
    "import os\n",
    "from absl import app\n",
    "from absl import flags\n",
    "from baselines import logger\n",
    "from baselines.bench import monitor\n",
    "from baselines.common.vec_env.subproc_vec_env import SubprocVecEnv\n",
    "from baselines.ppo2 import ppo2\n",
    "import gfootball.env as football_env\n",
    "from gfootball.examples import models  "
   ]
  },
  {
   "cell_type": "code",
   "execution_count": 3,
   "metadata": {},
   "outputs": [],
   "source": [
    "def load_dump(dump_file):\n",
    "    dump = []\n",
    "    with open(dump_file, 'rb') as in_fd:\n",
    "      while True:\n",
    "        try:\n",
    "          step = six.moves.cPickle.load(in_fd)\n",
    "        except EOFError:\n",
    "          return dump\n",
    "        dump.append(step)\n",
    "    return dump"
   ]
  },
  {
   "cell_type": "code",
   "execution_count": 40,
   "metadata": {},
   "outputs": [],
   "source": [
    "data = load_dump('full_info_liverpool_leicester.dump')"
   ]
  },
  {
   "cell_type": "code",
   "execution_count": 1,
   "metadata": {},
   "outputs": [
    {
     "name": "stdout",
     "output_type": "stream",
     "text": [
      "WARNING:tensorflow:From /Users/paulgarnier/Library/Python/3.7/lib/python/site-packages/baselines/common/input.py:31: The name tf.placeholder is deprecated. Please use tf.compat.v1.placeholder instead.\n",
      "\n",
      "WARNING:tensorflow:From /Users/paulgarnier/Library/Python/3.7/lib/python/site-packages/baselines/common/input.py:57: to_float (from tensorflow.python.ops.math_ops) is deprecated and will be removed in a future version.\n",
      "Instructions for updating:\n",
      "Use `tf.cast` instead.\n",
      "WARNING:tensorflow:From /Users/paulgarnier/Library/Python/3.7/lib/python/site-packages/baselines/common/policies.py:141: The name tf.variable_scope is deprecated. Please use tf.compat.v1.variable_scope instead.\n",
      "\n",
      "WARNING:tensorflow:From /Users/paulgarnier/Library/Python/3.7/lib/python/site-packages/baselines/common/policies.py:141: The name tf.AUTO_REUSE is deprecated. Please use tf.compat.v1.AUTO_REUSE instead.\n",
      "\n",
      "WARNING:tensorflow:From /Users/paulgarnier/Library/Python/3.7/lib/python/site-packages/sonnet/python/modules/conv.py:325: calling TruncatedNormal.__init__ (from tensorflow.python.ops.init_ops) with dtype is deprecated and will be removed in a future version.\n",
      "Instructions for updating:\n",
      "Call initializer instance with the dtype argument instead of passing it to the constructor\n",
      "WARNING:tensorflow:From /Users/paulgarnier/Library/Python/3.7/lib/python/site-packages/sonnet/python/modules/conv.py:330: calling Zeros.__init__ (from tensorflow.python.ops.init_ops) with dtype is deprecated and will be removed in a future version.\n",
      "Instructions for updating:\n",
      "Call initializer instance with the dtype argument instead of passing it to the constructor\n",
      "WARNING:tensorflow:From /Users/paulgarnier/Library/Python/3.7/lib/python/site-packages/baselines/common/policies.py:43: flatten (from tensorflow.python.layers.core) is deprecated and will be removed in a future version.\n",
      "Instructions for updating:\n",
      "Use keras.layers.flatten instead.\n",
      "WARNING:tensorflow:From /usr/local/lib/python3.7/site-packages/tensorflow_core/python/layers/core.py:332: Layer.apply (from tensorflow.python.keras.engine.base_layer) is deprecated and will be removed in a future version.\n",
      "Instructions for updating:\n",
      "Please use `layer.__call__` method instead.\n",
      "WARNING:tensorflow:From /Users/paulgarnier/Library/Python/3.7/lib/python/site-packages/baselines/a2c/utils.py:61: The name tf.get_variable is deprecated. Please use tf.compat.v1.get_variable instead.\n",
      "\n",
      "WARNING:tensorflow:From /Users/paulgarnier/Library/Python/3.7/lib/python/site-packages/baselines/common/distributions.py:200: The name tf.random_uniform is deprecated. Please use tf.random.uniform instead.\n",
      "\n",
      "WARNING:tensorflow:From /Users/paulgarnier/Library/Python/3.7/lib/python/site-packages/baselines/common/distributions.py:201: The name tf.log is deprecated. Please use tf.math.log instead.\n",
      "\n"
     ]
    }
   ],
   "source": [
    "from gfootball.env.players.ppo2_cnn import Player\n",
    "\n",
    "\n",
    "\n",
    "player_config = {'index': 0, 'left_players': 1, 'right_players': 0,\n",
    "                 'policy': 'gfootball_impala_cnn', 'stacked': True, 'checkpoint': '/checkopints/11_vs_11_selfplay_last'}\n",
    "agent = Player(player_config, env_config={})\n"
   ]
  },
  {
   "cell_type": "code",
   "execution_count": 43,
   "metadata": {},
   "outputs": [],
   "source": [
    "agent.reset()"
   ]
  },
  {
   "cell_type": "code",
   "execution_count": 44,
   "metadata": {},
   "outputs": [],
   "source": [
    "env = football_env.create_environment(env_name='11_vs_11_stochastic')\n",
    "observation = env.reset()\n",
    "agent.reset()\n",
    "done = False\n",
    "#while not done:\n",
    "    #action = agent.take_action([observation])\n",
    "    #observation, reward, done, info = env.step(action)"
   ]
  },
  {
   "cell_type": "code",
   "execution_count": 46,
   "metadata": {},
   "outputs": [
    {
     "data": {
      "text/plain": [
       "'The first plane P holds the position of players on the left\\n        team, P[y,x] is 255 if there is a player at position (x,y), otherwise,\\n        its value is 0.\\n        The second plane holds in the same way the position of players\\n        on the right team.\\n        The third plane holds the position of the ball.\\n        The last plane holds the active player.'"
      ]
     },
     "execution_count": 46,
     "metadata": {},
     "output_type": "execute_result"
    }
   ],
   "source": [
    "\"\"\"The first plane P holds the position of players on the left\n",
    "        team, P[y,x] is 255 if there is a player at position (x,y), otherwise,\n",
    "        its value is 0.\n",
    "        The second plane holds in the same way the position of players\n",
    "        on the right team.\n",
    "        The third plane holds the position of the ball.\n",
    "        The last plane holds the active player.\"\"\""
   ]
  },
  {
   "cell_type": "code",
   "execution_count": 47,
   "metadata": {},
   "outputs": [
    {
     "data": {
      "text/plain": [
       "(72, 96, 4)"
      ]
     },
     "execution_count": 47,
     "metadata": {},
     "output_type": "execute_result"
    }
   ],
   "source": [
    "observation.shape"
   ]
  },
  {
   "cell_type": "code",
   "execution_count": 48,
   "metadata": {},
   "outputs": [],
   "source": [
    "from __future__ import absolute_import\n",
    "from __future__ import division\n",
    "from __future__ import print_function\n",
    "\n",
    "import numpy as np\n",
    "from six.moves import range\n",
    "\n",
    "\n",
    "SMM_WIDTH = 96\n",
    "SMM_HEIGHT = 72\n",
    "\n",
    "SMM_LAYERS = ['left_team', 'right_team', 'ball', 'active']\n",
    "\n",
    "# Normalized minimap coordinates\n",
    "MINIMAP_NORM_X_MIN = -1.0\n",
    "MINIMAP_NORM_X_MAX = 1.0\n",
    "MINIMAP_NORM_Y_MIN = -1.0 / 2.25\n",
    "MINIMAP_NORM_Y_MAX = 1.0 / 2.25\n",
    "\n",
    "_MARKER_VALUE = 255\n",
    "\n",
    "\n",
    "def get_smm_layers(config):\n",
    "  return SMM_LAYERS\n",
    "\n",
    "\n",
    "def mark_points(frame, points):\n",
    "  \"\"\"Draw dots corresponding to 'points'.\n",
    "  Args:\n",
    "    frame: 2-d matrix representing one SMM channel ([y, x])\n",
    "    points: a list of (x, y) coordinates to be marked\n",
    "  \"\"\"\n",
    "  for p in range(len(points) // 2):\n",
    "    x = int((points[p * 2] - MINIMAP_NORM_X_MIN) /\n",
    "            (MINIMAP_NORM_X_MAX - MINIMAP_NORM_X_MIN) * frame.shape[1])\n",
    "    y = int((points[p * 2 + 1] - MINIMAP_NORM_Y_MIN) /\n",
    "            (MINIMAP_NORM_Y_MAX - MINIMAP_NORM_Y_MIN) * frame.shape[0])\n",
    "    x = max(0, min(frame.shape[1] - 1, x))\n",
    "    y = max(0, min(frame.shape[0] - 1, y))\n",
    "    frame[y, x] = _MARKER_VALUE\n",
    "\n",
    "\n",
    "def generate_smm(observation, config=None,\n",
    "                 channel_dimensions=(SMM_WIDTH, SMM_HEIGHT)):\n",
    "  \"\"\"Returns a list of minimap observations given the raw features for each\n",
    "  active player.\n",
    "  Args:\n",
    "    observation: raw features from the environment\n",
    "    channel_dimensions: resolution of SMM to generate\n",
    "  Returns:\n",
    "    (N, H, W, C) - shaped np array representing SMM. N stands for the number of\n",
    "    players we are controlling.\n",
    "  \"\"\"\n",
    "  frame = np.zeros((len(observation), channel_dimensions[1],\n",
    "                    channel_dimensions[0], len(get_smm_layers(config))),\n",
    "                   dtype=np.uint8)\n",
    "\n",
    "  for o_i, o in enumerate(observation):\n",
    "    for index, layer in enumerate(get_smm_layers(config)):\n",
    "      if layer not in o:\n",
    "        continue\n",
    "      if layer == 'active':\n",
    "        if o[layer] == -1:\n",
    "          continue\n",
    "        mark_points(frame[o_i, :, :, index],\n",
    "                    np.array(o['left_team'][o[layer]]).reshape(-1))\n",
    "      else:\n",
    "        mark_points(frame[o_i, :, :, index], np.array(o[layer]).reshape(-1))\n",
    "  return frame"
   ]
  },
  {
   "cell_type": "code",
   "execution_count": 49,
   "metadata": {},
   "outputs": [],
   "source": [
    "channel_dimensions=(SMM_WIDTH, SMM_HEIGHT)\n",
    "frame = np.zeros((channel_dimensions[1],channel_dimensions[0]))"
   ]
  },
  {
   "cell_type": "markdown",
   "metadata": {},
   "source": [
    "# Let's get the value for Liverpool data : "
   ]
  },
  {
   "cell_type": "code",
   "execution_count": 50,
   "metadata": {},
   "outputs": [
    {
     "data": {
      "text/plain": [
       "125"
      ]
     },
     "execution_count": 50,
     "metadata": {},
     "output_type": "execute_result"
    }
   ],
   "source": [
    "len(data[0][0])"
   ]
  },
  {
   "cell_type": "code",
   "execution_count": 51,
   "metadata": {},
   "outputs": [],
   "source": [
    "def _left_parser(tab,i):\n",
    "    coord = []\n",
    "    tab_ = tab[0][0][i]['left_team_positions']\n",
    "    for list_ in tab_:\n",
    "        for value in list_:\n",
    "            coord.append(value)\n",
    "    return coord\n",
    "\n",
    "def _right_parser(tab,i):\n",
    "    coord = []\n",
    "    tab_ = tab[0][0][i]['right_team_positions']\n",
    "    for list_ in tab_:\n",
    "        for value in list_:\n",
    "            coord.append(value)\n",
    "    return coord\n",
    "\n",
    "def _ball_parser(tab,i):\n",
    "    tab_ = tab[0][0][i]['ball_position']\n",
    "    return tab_[:-1]\n",
    "\n",
    "def _active_parser(tab,i):\n",
    "    tab_left = tab[0][0][i]['left_team_positions']\n",
    "    tab_ball = tab[0][0][i]['ball_position'][:-1]\n",
    "    min_dist = 1000000\n",
    "    for indx,list_ in enumerate(tab_left):\n",
    "        dist = (list_[0] - tab_ball[0])**2 + (list_[1] - tab_ball[1])**2\n",
    "        if dist < min_dist:\n",
    "            min_dist = dist\n",
    "            select = indx \n",
    "    return tab_left[select]"
   ]
  },
  {
   "cell_type": "code",
   "execution_count": 52,
   "metadata": {},
   "outputs": [],
   "source": [
    "def _build_obs(tab,i):\n",
    "    frame = np.zeros((channel_dimensions[1],channel_dimensions[0],4))\n",
    "    mark_points(frame[:,:,0], _left_parser(tab,i))\n",
    "    mark_points(frame[:,:,1], _right_parser(tab,i))\n",
    "    mark_points(frame[:,:,2], _ball_parser(tab,i))\n",
    "    mark_points(frame[:,:,3], _active_parser(tab,i))\n",
    "    return frame"
   ]
  },
  {
   "cell_type": "code",
   "execution_count": 53,
   "metadata": {},
   "outputs": [],
   "source": [
    "def _build_obs_stacked(tab,i):\n",
    "    frame = np.zeros((channel_dimensions[1],channel_dimensions[0],16))\n",
    "    mark_points(frame[:,:,0], _left_parser(tab,i))\n",
    "    mark_points(frame[:,:,1], _right_parser(tab,i))\n",
    "    mark_points(frame[:,:,2], _ball_parser(tab,i))\n",
    "    mark_points(frame[:,:,3], _active_parser(tab,i))\n",
    "    to_add = min((i+1),len(tab[0][0])-1)\n",
    "    mark_points(frame[:,:,4], _left_parser(tab,to_add))\n",
    "    mark_points(frame[:,:,5], _right_parser(tab,to_add))\n",
    "    mark_points(frame[:,:,6], _ball_parser(tab,to_add))\n",
    "    mark_points(frame[:,:,7], _active_parser(tab,to_add))\n",
    "    to_add = min((i+2),len(tab[0][0])-1)\n",
    "    mark_points(frame[:,:,8], _left_parser(tab,to_add))\n",
    "    mark_points(frame[:,:,9], _right_parser(tab,to_add))\n",
    "    mark_points(frame[:,:,10], _ball_parser(tab,to_add))\n",
    "    mark_points(frame[:,:,11], _active_parser(tab,to_add))\n",
    "    to_add = min((i+3),len(tab[0][0])-1)\n",
    "    mark_points(frame[:,:,12], _left_parser(tab,to_add))\n",
    "    mark_points(frame[:,:,13], _right_parser(tab,to_add))\n",
    "    mark_points(frame[:,:,14], _ball_parser(tab,to_add))\n",
    "    mark_points(frame[:,:,15], _active_parser(tab,to_add))\n",
    "\n",
    "    return frame\n",
    "    "
   ]
  },
  {
   "cell_type": "code",
   "execution_count": 54,
   "metadata": {},
   "outputs": [],
   "source": [
    "observations = {\n",
    "    'frame_count':[],\n",
    "    'obs':[],\n",
    "    'value':[]\n",
    "}"
   ]
  },
  {
   "cell_type": "code",
   "execution_count": 55,
   "metadata": {},
   "outputs": [],
   "source": [
    "for i in range(len(data[0][0])):\n",
    "    obs = _build_obs_stacked(data,i)\n",
    "    observations['frame_count'].append(i)\n",
    "    observations['obs'].append(obs)"
   ]
  },
  {
   "cell_type": "code",
   "execution_count": 56,
   "metadata": {},
   "outputs": [
    {
     "name": "stderr",
     "output_type": "stream",
     "text": [
      "/Users/paulgarnier/Documents/github/football/gfootball/env/observation_preprocessing.py:83: FutureWarning: elementwise comparison failed; returning scalar instead, but in the future will perform elementwise comparison\n",
      "  if layer not in o:\n"
     ]
    },
    {
     "data": {
      "text/plain": [
       "(array([14]),\n",
       " array([-0.07783899], dtype=float32),\n",
       " None,\n",
       " array([3.0581164], dtype=float32))"
      ]
     },
     "execution_count": 56,
     "metadata": {},
     "output_type": "execute_result"
    }
   ],
   "source": [
    "agent.take_action([observations['obs'][0]])"
   ]
  },
  {
   "cell_type": "code",
   "execution_count": 57,
   "metadata": {},
   "outputs": [
    {
     "data": {
      "text/plain": [
       "array([0.06304608], dtype=float32)"
      ]
     },
     "execution_count": 57,
     "metadata": {},
     "output_type": "execute_result"
    }
   ],
   "source": [
    "agent._policy.value([observations['obs'][120]])"
   ]
  },
  {
   "cell_type": "code",
   "execution_count": 58,
   "metadata": {},
   "outputs": [],
   "source": [
    "for indx,obs in enumerate(observations['obs']):\n",
    "    value = agent._policy.value([obs])\n",
    "    observations['value'].append(value[0])"
   ]
  },
  {
   "cell_type": "code",
   "execution_count": 59,
   "metadata": {},
   "outputs": [],
   "source": [
    "import seaborn as sns\n",
    "import pandas as pd"
   ]
  },
  {
   "cell_type": "code",
   "execution_count": 60,
   "metadata": {},
   "outputs": [
    {
     "data": {
      "text/plain": [
       "[-0.13671872,\n",
       " -0.13671872,\n",
       " -0.13671872,\n",
       " -0.13671872,\n",
       " -0.12542975,\n",
       " -0.11751981,\n",
       " -0.028834239,\n",
       " -0.1333991,\n",
       " -0.088491306,\n",
       " -0.08772334,\n",
       " -0.1118809,\n",
       " -0.07498057,\n",
       " -0.119245514,\n",
       " -0.0074533224,\n",
       " -0.04909537,\n",
       " -0.16225514,\n",
       " -0.18097863,\n",
       " -0.16825522,\n",
       " -0.15068021,\n",
       " -0.152248,\n",
       " -0.13815546,\n",
       " -0.15129033,\n",
       " -0.10887492,\n",
       " -0.117340654,\n",
       " -0.011270724,\n",
       " 0.02560743,\n",
       " 0.06355703,\n",
       " 0.041176885,\n",
       " 0.017369926,\n",
       " -0.025271043,\n",
       " -0.021885708,\n",
       " -0.023691252,\n",
       " 0.031027086,\n",
       " -0.0154887065,\n",
       " 0.025271446,\n",
       " 0.005156912,\n",
       " -0.057583425,\n",
       " -0.024605252,\n",
       " -0.025889445,\n",
       " -0.0674309,\n",
       " -0.065700784,\n",
       " -0.09377858,\n",
       " -0.12269638,\n",
       " -0.054345448,\n",
       " -0.10123868,\n",
       " -0.1437596,\n",
       " -0.056008324,\n",
       " -0.0096383765,\n",
       " -0.13052967,\n",
       " -0.16917972,\n",
       " -0.030084983,\n",
       " -0.075775415,\n",
       " -0.04180304,\n",
       " -0.15418379,\n",
       " 0.011236772,\n",
       " -0.10785243,\n",
       " 0.031875372,\n",
       " -0.013136119,\n",
       " -0.13672481,\n",
       " -0.04862458,\n",
       " -0.06694631,\n",
       " -0.18328534,\n",
       " -0.04804596,\n",
       " -0.018771052,\n",
       " -0.026237119,\n",
       " -0.07485695,\n",
       " -0.091722004,\n",
       " -0.0698725,\n",
       " -0.058863543,\n",
       " -0.013487324,\n",
       " 0.013072558,\n",
       " 0.093992904,\n",
       " 0.1301044,\n",
       " 0.08610849,\n",
       " 0.105334714,\n",
       " 0.19759461,\n",
       " 0.241272,\n",
       " 0.3283738,\n",
       " 0.29351702,\n",
       " 0.33971402,\n",
       " 0.3562915,\n",
       " 0.30893645,\n",
       " 0.32688546,\n",
       " 0.32730272,\n",
       " 0.35833892,\n",
       " 0.32475662,\n",
       " 0.2929844,\n",
       " 0.24444821,\n",
       " 0.26145068,\n",
       " 0.29711297,\n",
       " 0.2699958,\n",
       " 0.3106579,\n",
       " 0.28980386,\n",
       " 0.3068817,\n",
       " 0.31037748,\n",
       " 0.1170349,\n",
       " 0.056287736,\n",
       " 0.02200894,\n",
       " 0.05488883,\n",
       " 0.10451001,\n",
       " 0.030962855,\n",
       " -0.0154816285,\n",
       " -0.002278164,\n",
       " -0.014217153,\n",
       " -0.028764352,\n",
       " -0.041243423,\n",
       " -0.064503714,\n",
       " -0.046861395,\n",
       " -0.031450223,\n",
       " -0.009202272,\n",
       " 0.088610336,\n",
       " 0.0934643,\n",
       " 0.096893445,\n",
       " 0.100299716,\n",
       " 0.07914454,\n",
       " 0.06304608,\n",
       " 0.06304608,\n",
       " 0.06304608,\n",
       " 0.06304608,\n",
       " 0.06304608,\n",
       " 0.06304608,\n",
       " 0.06304608,\n",
       " 0.06304608,\n",
       " 0.06304608,\n",
       " 0.06304608]"
      ]
     },
     "execution_count": 60,
     "metadata": {},
     "output_type": "execute_result"
    }
   ],
   "source": [
    "observations['value']"
   ]
  },
  {
   "cell_type": "code",
   "execution_count": 61,
   "metadata": {},
   "outputs": [],
   "source": [
    "df_dict = {\n",
    "    'frame_count':observations['frame_count'],\n",
    "    'value':observations['value']\n",
    "}\n",
    "df = pd.DataFrame(df_dict)"
   ]
  },
  {
   "cell_type": "code",
   "execution_count": 62,
   "metadata": {},
   "outputs": [],
   "source": [
    "df['dValue'] = df['value'].diff()"
   ]
  },
  {
   "cell_type": "code",
   "execution_count": 63,
   "metadata": {},
   "outputs": [],
   "source": [
    "df['dValue'] = df['dValue'].fillna(0)"
   ]
  },
  {
   "cell_type": "code",
   "execution_count": 64,
   "metadata": {},
   "outputs": [
    {
     "data": {
      "text/plain": [
       "<matplotlib.axes._subplots.AxesSubplot at 0x1688690d0>"
      ]
     },
     "execution_count": 64,
     "metadata": {},
     "output_type": "execute_result"
    },
    {
     "data": {
      "image/png": "[encoded data removed]",
      "text/plain": [
       "<Figure size 432x288 with 1 Axes>"
      ]
     },
     "metadata": {
      "needs_background": "light"
     },
     "output_type": "display_data"
    }
   ],
   "source": [
    "sns.lineplot(x=\"frame_count\", y=\"value\",data=df)"
   ]
  },
  {
   "cell_type": "code",
   "execution_count": 65,
   "metadata": {},
   "outputs": [
    {
     "data": {
      "text/plain": [
       "<matplotlib.axes._subplots.AxesSubplot at 0x153e1f3d0>"
      ]
     },
     "execution_count": 65,
     "metadata": {},
     "output_type": "execute_result"
    },
    {
     "data": {
      "image/png": "[encoded data removed]",
      "text/plain": [
       "<Figure size 432x288 with 1 Axes>"
      ]
     },
     "metadata": {
      "needs_background": "light"
     },
     "output_type": "display_data"
    }
   ],
   "source": [
    "sns.lineplot(x=\"frame_count\", y=\"dValue\",data=df)"
   ]
  },
  {
   "cell_type": "code",
   "execution_count": 66,
   "metadata": {},
   "outputs": [],
   "source": [
    "df.to_csv('liverpool_value_leicester.csv')"
   ]
  },
  {
   "cell_type": "code",
   "execution_count": null,
   "metadata": {},
   "outputs": [],
   "source": []
  }
 ],
 "metadata": {
  "kernelspec": {
   "display_name": "Python 3",
   "language": "python",
   "name": "python3"
  },
  "language_info": {
   "codemirror_mode": {
    "name": "ipython",
    "version": 3
   },
   "file_extension": ".py",
   "mimetype": "text/x-python",
   "name": "python",
   "nbconvert_exporter": "python",
   "pygments_lexer": "ipython3",
   "version": "3.7.7"
  }
 },
 "nbformat": 4,
 "nbformat_minor": 4
}
